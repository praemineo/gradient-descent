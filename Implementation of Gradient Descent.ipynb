{
 "cells": [
  {
   "cell_type": "markdown",
   "metadata": {},
   "source": [
    "# ALGORITHM FOR IMPLEMENTMENTATION :"
   ]
  },
  {
   "cell_type": "code",
   "execution_count": 20,
   "metadata": {},
   "outputs": [],
   "source": [
    "# Find local minima of the function y = (x+5)^2 starting from point x=3\n",
    "\n",
    "\n",
    "# SOLUTION :\n",
    "\n",
    "# its's minimum value when x = -5 when y = 0\n",
    "# => x = -5 is the local & global minima of the function\n",
    "\n",
    "# STEP : 1\n",
    "    # Initialize x=3, find the Gradient of the function, dy/dx = 2*(x+5)\n",
    "\n",
    "# STEP : 2\n",
    "    # : Move in the direction of the negative of the gradient.\n",
    "    #    how much to move? For that, we require a learning rate. Let us assume the learning rate → 0.01\n",
    "\n",
    "# STEP : 3\n",
    "    # how many iterations should we perform? \n",
    "    # Let us set a precision variable in our algorithm \n",
    "    # which calculates the difference between two consecutive “x” values\n",
    "    # If the difference between x values from 2 consecutive iterations is lesser than the precision we set, stop the algorithm"
   ]
  },
  {
   "cell_type": "markdown",
   "metadata": {},
   "source": [
    "# Function used : y = (x+5) ^2\n",
    "# It's Derivative : (dy/dx) = 2*(x+5)<br/>\n"
   ]
  },
  {
   "cell_type": "code",
   "execution_count": 29,
   "metadata": {},
   "outputs": [],
   "source": [
    "from matplotlib import pyplot as plt\n",
    "import numpy as np\n",
    "from IPython.display import HTML;import ipywidgets as widgets;from ipywidgets import Layout; from IPython.display import display\n",
    "import os\n",
    "from subprocess import call"
   ]
  },
  {
   "cell_type": "code",
   "execution_count": 30,
   "metadata": {},
   "outputs": [],
   "source": [
    "# the local or global minima (the curren position)\n",
    "cur_x = 3\n",
    "\n",
    "# learning rate\n",
    "lRate = 0.1\n",
    "\n",
    "# threshold prediction value \n",
    "precision = 0.000001\n",
    "\n",
    "# difference in two consecutive iterations\n",
    "convergence = 1\n",
    "\n",
    "# maximum number of iteration off algo\n",
    "max_iters = 1000\n",
    "\n",
    "# Gradient of our function\n",
    "df = lambda x : 2*(x+5)\n",
    "f_x = lambda x: (x + 5)**2\n",
    "\n",
    "# Iteration counter\n",
    "iters = 0"
   ]
  },
  {
   "cell_type": "code",
   "execution_count": 31,
   "metadata": {},
   "outputs": [
    {
     "name": "stdout",
     "output_type": "stream",
     "text": [
      "Interation :  1 and Converged value of 'x' :  1.4\n",
      "Interation :  2 and Converged value of 'x' :  0.11999999999999966\n",
      "Interation :  3 and Converged value of 'x' :  -0.9040000000000001\n",
      "Interation :  4 and Converged value of 'x' :  -1.7232000000000003\n",
      "Interation :  5 and Converged value of 'x' :  -2.3785600000000002\n",
      "Interation :  6 and Converged value of 'x' :  -2.902848\n",
      "Interation :  7 and Converged value of 'x' :  -3.3222784\n",
      "Interation :  8 and Converged value of 'x' :  -3.65782272\n",
      "Interation :  9 and Converged value of 'x' :  -3.926258176\n",
      "Interation :  10 and Converged value of 'x' :  -4.1410065408\n",
      "Interation :  11 and Converged value of 'x' :  -4.312805232640001\n",
      "Interation :  12 and Converged value of 'x' :  -4.450244186112\n",
      "Interation :  13 and Converged value of 'x' :  -4.5601953488896\n",
      "Interation :  14 and Converged value of 'x' :  -4.64815627911168\n",
      "Interation :  15 and Converged value of 'x' :  -4.718525023289343\n",
      "Interation :  16 and Converged value of 'x' :  -4.774820018631475\n",
      "Interation :  17 and Converged value of 'x' :  -4.81985601490518\n",
      "Interation :  18 and Converged value of 'x' :  -4.855884811924144\n",
      "Interation :  19 and Converged value of 'x' :  -4.884707849539315\n",
      "Interation :  20 and Converged value of 'x' :  -4.907766279631452\n",
      "Interation :  21 and Converged value of 'x' :  -4.926213023705161\n",
      "Interation :  22 and Converged value of 'x' :  -4.940970418964129\n",
      "Interation :  23 and Converged value of 'x' :  -4.952776335171303\n",
      "Interation :  24 and Converged value of 'x' :  -4.962221068137042\n",
      "Interation :  25 and Converged value of 'x' :  -4.969776854509634\n",
      "Interation :  26 and Converged value of 'x' :  -4.9758214836077075\n",
      "Interation :  27 and Converged value of 'x' :  -4.980657186886166\n",
      "Interation :  28 and Converged value of 'x' :  -4.984525749508933\n",
      "Interation :  29 and Converged value of 'x' :  -4.987620599607146\n",
      "Interation :  30 and Converged value of 'x' :  -4.990096479685716\n",
      "Interation :  31 and Converged value of 'x' :  -4.992077183748573\n",
      "Interation :  32 and Converged value of 'x' :  -4.993661746998859\n",
      "Interation :  33 and Converged value of 'x' :  -4.994929397599087\n",
      "Interation :  34 and Converged value of 'x' :  -4.99594351807927\n",
      "Interation :  35 and Converged value of 'x' :  -4.996754814463416\n",
      "Interation :  36 and Converged value of 'x' :  -4.997403851570732\n",
      "Interation :  37 and Converged value of 'x' :  -4.997923081256586\n",
      "Interation :  38 and Converged value of 'x' :  -4.9983384650052685\n",
      "Interation :  39 and Converged value of 'x' :  -4.998670772004215\n",
      "Interation :  40 and Converged value of 'x' :  -4.998936617603372\n",
      "Interation :  41 and Converged value of 'x' :  -4.999149294082697\n",
      "Interation :  42 and Converged value of 'x' :  -4.999319435266157\n",
      "Interation :  43 and Converged value of 'x' :  -4.999455548212926\n",
      "Interation :  44 and Converged value of 'x' :  -4.99956443857034\n",
      "Interation :  45 and Converged value of 'x' :  -4.999651550856273\n",
      "Interation :  46 and Converged value of 'x' :  -4.999721240685018\n",
      "Interation :  47 and Converged value of 'x' :  -4.999776992548014\n",
      "Interation :  48 and Converged value of 'x' :  -4.999821594038411\n",
      "Interation :  49 and Converged value of 'x' :  -4.999857275230729\n",
      "Interation :  50 and Converged value of 'x' :  -4.999885820184583\n",
      "Interation :  51 and Converged value of 'x' :  -4.999908656147666\n",
      "Interation :  52 and Converged value of 'x' :  -4.9999269249181335\n",
      "Interation :  53 and Converged value of 'x' :  -4.999941539934507\n",
      "Interation :  54 and Converged value of 'x' :  -4.999953231947606\n",
      "Interation :  55 and Converged value of 'x' :  -4.999962585558085\n",
      "Interation :  56 and Converged value of 'x' :  -4.999970068446467\n",
      "Interation :  57 and Converged value of 'x' :  -4.999976054757174\n",
      "Interation :  58 and Converged value of 'x' :  -4.999980843805739\n",
      "Interation :  59 and Converged value of 'x' :  -4.999984675044591\n",
      "Interation :  60 and Converged value of 'x' :  -4.999987740035673\n",
      "Interation :  61 and Converged value of 'x' :  -4.999990192028538\n",
      "Interation :  62 and Converged value of 'x' :  -4.999992153622831\n",
      "Interation :  63 and Converged value of 'x' :  -4.999993722898265\n",
      "Interation :  64 and Converged value of 'x' :  -4.999994978318612\n",
      "Interation :  65 and Converged value of 'x' :  -4.999995982654889\n",
      "Interation :  66 and Converged value of 'x' :  -4.999996786123911\n"
     ]
    }
   ],
   "source": [
    "\n",
    "# Iterate untill (x2 - x1) > prediction & iterations < maximum set iterations  \n",
    "n = 0\n",
    "x = [cur_x]\n",
    "y = [f_x(cur_x)]\n",
    "\n",
    "while convergence > precision and iters < max_iters:\n",
    "   \n",
    "    # Store current x value\n",
    "    prev_x = cur_x\n",
    "    \n",
    "    # Gradient\n",
    "    cur_x = cur_x - lRate * df(prev_x)\n",
    "    \n",
    "    # convergence in 2 consecutive steps\n",
    "    convergence = abs(cur_x - prev_x)\n",
    "    \n",
    "    # increment the counter\n",
    "    iters+=1\n",
    "    \n",
    "    x.append(cur_x)\n",
    "    y.append(f_x(cur_x))\n",
    "    \n",
    "    # print interation and convered value of 'x' :\n",
    "    print(\"Interation : \", iters, \"and Converged value of 'x' : \", cur_x)"
   ]
  },
  {
   "cell_type": "code",
   "execution_count": 32,
   "metadata": {},
   "outputs": [
    {
     "data": {
      "image/png": "[encoded data removed]",
      "text/plain": [
       "<Figure size 432x288 with 1 Axes>"
      ]
     },
     "metadata": {},
     "output_type": "display_data"
    }
   ],
   "source": [
    "\n",
    "plt.figure()\n",
    "for n in range(len(x)):\n",
    "    plt.cla()\n",
    "    plt.plot(x,y)\n",
    "    plt.scatter(x[0:n], y[0:n])\n",
    "\n",
    "    plt.xlim(-6,5)\n",
    "    plt.ylim(-10,70)\n",
    "    plt.xticks(np.arange(min(x)-1, max(x)+2,1))\n",
    "    plt.grid(True)\n",
    "    plt.xlabel(\"X\")\n",
    "    plt.ylabel(\"y\")\n",
    "    plt.title(\" y = (x - 5)^2\")\n",
    "    plt.savefig('gif/Frame%03d.png' %n, transparent=True)\n"
   ]
  },
  {
   "cell_type": "markdown",
   "metadata": {},
   "source": [
    "# GIF image to understand the descendants of point (x) in the plane\n"
   ]
  },
  {
   "cell_type": "code",
   "execution_count": 25,
   "metadata": {},
   "outputs": [],
   "source": [
    "os.chdir(\"gif\")\n",
    "call(['mogrify', '-resize', '640x480', '*.png'])\n",
    "call(['convert', '-delay', '0', '-loop', '0', '-alpha', 'set','-dispose', 'previous', '*.png', 'gradientDescent.gif'])\n",
    "call([\"ls\",\"-i\"])\n",
    "os.chdir(\"..\")"
   ]
  },
  {
   "cell_type": "markdown",
   "metadata": {},
   "source": [
    "<img src = \"gif/gradientDescent.gif\">"
   ]
  }
 ],
 "metadata": {
  "kernelspec": {
   "display_name": "Python 3",
   "language": "python",
   "name": "python3"
  },
  "language_info": {
   "codemirror_mode": {
    "name": "ipython",
    "version": 3
   },
   "file_extension": ".py",
   "mimetype": "text/x-python",
   "name": "python",
   "nbconvert_exporter": "python",
   "pygments_lexer": "ipython3",
   "version": "3.6.6"
  }
 },
 "nbformat": 4,
 "nbformat_minor": 2
}
